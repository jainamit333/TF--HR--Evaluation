{
 "cells": [
  {
   "cell_type": "code",
   "execution_count": 63,
   "metadata": {
    "collapsed": true
   },
   "outputs": [],
   "source": [
    "%matplotlib inline\n",
    "%config InlineBackend.figure_format = 'retina'\n",
    "\n",
    "import numpy as np\n",
    "import pandas as pd\n",
    "import matplotlib.pyplot as plt\n",
    "from sklearn.utils import shuffle\n",
    "import tensorflow as tf"
   ]
  },
  {
   "cell_type": "code",
   "execution_count": 64,
   "metadata": {},
   "outputs": [],
   "source": [
    "raw_data = pd.read_csv('HR_comma_sep.csv')"
   ]
  },
  {
   "cell_type": "code",
   "execution_count": 65,
   "metadata": {
    "collapsed": true
   },
   "outputs": [],
   "source": [
    "salary_mapping = {'low':1,'medium':3,'high':5}\n",
    "raw_data['salary'] = raw_data.salary.replace(salary_mapping)"
   ]
  },
  {
   "cell_type": "code",
   "execution_count": 66,
   "metadata": {
    "collapsed": true
   },
   "outputs": [],
   "source": [
    "dummies = pd.get_dummies(raw_data['sales'], prefix='sales', drop_first=False)\n",
    "raw_data = pd.concat([raw_data, dummies], axis=1)\n",
    "raw_data = raw_data.drop('sales',axis=1)"
   ]
  },
  {
   "cell_type": "code",
   "execution_count": 67,
   "metadata": {
    "collapsed": true
   },
   "outputs": [],
   "source": [
    "columns_to_be_normalized = ['number_project','average_montly_hours','time_spend_company','salary']\n",
    "scaled_features = {}\n",
    "for each in columns_to_be_normalized:\n",
    "    mean, std = raw_data[each].mean(), raw_data[each].std()\n",
    "    scaled_features[each] = [mean, std]\n",
    "    raw_data.loc[:, each] = (raw_data[each] - mean)/std"
   ]
  },
  {
   "cell_type": "code",
   "execution_count": 68,
   "metadata": {
    "collapsed": true
   },
   "outputs": [],
   "source": [
    "number_of_columns = raw_data.columns.size\n",
    "number_of_rows = len(raw_data)\n",
    "test_size = 1000\n",
    "validation_size = 3000\n",
    "target_field = ['left']"
   ]
  },
  {
   "cell_type": "code",
   "execution_count": 69,
   "metadata": {
    "collapsed": true
   },
   "outputs": [],
   "source": [
    "raw_data = shuffle(raw_data)"
   ]
  },
  {
   "cell_type": "code",
   "execution_count": 70,
   "metadata": {
    "collapsed": true
   },
   "outputs": [],
   "source": [
    "test_data = raw_data[:test_size]\n",
    "validation_data = raw_data[test_size:test_size+validation_size]\n",
    "train_data = raw_data[test_size+validation_size:len(raw_data)]"
   ]
  },
  {
   "cell_type": "code",
   "execution_count": 71,
   "metadata": {},
   "outputs": [],
   "source": [
    "train_features,train_target = train_data.drop(target_field,axis=1),train_data[target_field]\n",
    "validation_features,validation_target = validation_data.drop(target_field,axis=1),validation_data[target_field]\n",
    "test_features,test_target = test_data.drop(target_field,axis=1),test_data[target_field]"
   ]
  },
  {
   "cell_type": "code",
   "execution_count": 91,
   "metadata": {
    "collapsed": true
   },
   "outputs": [],
   "source": [
    "# Parameters\n",
    "learning_rate = 0.1\n",
    "training_epochs = 2000\n",
    "display_step = 50\n",
    "n_samples = len(train_data)"
   ]
  },
  {
   "cell_type": "code",
   "execution_count": 92,
   "metadata": {},
   "outputs": [
    {
     "data": {
      "text/plain": [
       "(10999, 18)"
      ]
     },
     "execution_count": 92,
     "metadata": {},
     "output_type": "execute_result"
    }
   ],
   "source": [
    "train_features.shape"
   ]
  },
  {
   "cell_type": "code",
   "execution_count": 93,
   "metadata": {},
   "outputs": [],
   "source": [
    "x = tf.placeholder(tf.float32, [None, 18])\n",
    "W = tf.Variable(tf.random_normal([18, 1])) \n",
    "B = tf.Variable(tf.zeros([1]))\n",
    "y_values = tf.add(tf.matmul(x, W), B) \n",
    "y = tf.nn.softmax(y_values) \n",
    "y_ = tf.placeholder(tf.float32, [None,1])"
   ]
  },
  {
   "cell_type": "code",
   "execution_count": null,
   "metadata": {},
   "outputs": [],
   "source": [
    "cost = tf.nn.softmax_cross_entropy_with_logits(logits=y,labels=y_)\n",
    "#cost = tf.reduce_mean(tf.pow(y_ - y, 2))/(2*n_samples)\n",
    "optimizer = tf.train.AdagradOptimizer(learning_rate=learning_rate).minimize(cost)"
   ]
  },
  {
   "cell_type": "code",
   "execution_count": 100,
   "metadata": {},
   "outputs": [],
   "source": [
    "init = tf.global_variables_initializer()\n",
    "sess = tf.Session()\n",
    "sess.run(init)"
   ]
  },
  {
   "cell_type": "code",
   "execution_count": 101,
   "metadata": {},
   "outputs": [
    {
     "name": "stdout",
     "output_type": "stream",
     "text": [
      "Training step:  0 Cost:  [ 0.  0.  0. ...,  0.  0.  0.]\n",
      "Training step:  50 Cost:  [ 0.  0.  0. ...,  0.  0.  0.]\n",
      "Training step:  100 Cost:  [ 0.  0.  0. ...,  0.  0.  0.]\n",
      "Training step:  150 Cost:  [ 0.  0.  0. ...,  0.  0.  0.]\n",
      "Training step:  200 Cost:  [ 0.  0.  0. ...,  0.  0.  0.]\n",
      "Training step:  250 Cost:  [ 0.  0.  0. ...,  0.  0.  0.]\n",
      "Training step:  300 Cost:  [ 0.  0.  0. ...,  0.  0.  0.]\n",
      "Training step:  350 Cost:  [ 0.  0.  0. ...,  0.  0.  0.]\n",
      "Training step:  400 Cost:  [ 0.  0.  0. ...,  0.  0.  0.]\n",
      "Training step:  450 Cost:  [ 0.  0.  0. ...,  0.  0.  0.]\n",
      "Training step:  500 Cost:  [ 0.  0.  0. ...,  0.  0.  0.]\n",
      "Training step:  550 Cost:  [ 0.  0.  0. ...,  0.  0.  0.]\n",
      "Training step:  600 Cost:  [ 0.  0.  0. ...,  0.  0.  0.]\n",
      "Training step:  650 Cost:  [ 0.  0.  0. ...,  0.  0.  0.]\n",
      "Training step:  700 Cost:  [ 0.  0.  0. ...,  0.  0.  0.]\n",
      "Training step:  750 Cost:  [ 0.  0.  0. ...,  0.  0.  0.]\n",
      "Training step:  800 Cost:  [ 0.  0.  0. ...,  0.  0.  0.]\n",
      "Training step:  850 Cost:  [ 0.  0.  0. ...,  0.  0.  0.]\n",
      "Training step:  900 Cost:  [ 0.  0.  0. ...,  0.  0.  0.]\n",
      "Training step:  950 Cost:  [ 0.  0.  0. ...,  0.  0.  0.]\n",
      "Training step:  1000 Cost:  [ 0.  0.  0. ...,  0.  0.  0.]\n",
      "Training step:  1050 Cost:  [ 0.  0.  0. ...,  0.  0.  0.]\n",
      "Training step:  1100 Cost:  [ 0.  0.  0. ...,  0.  0.  0.]\n",
      "Training step:  1150 Cost:  [ 0.  0.  0. ...,  0.  0.  0.]\n",
      "Training step:  1200 Cost:  [ 0.  0.  0. ...,  0.  0.  0.]\n",
      "Training step:  1250 Cost:  [ 0.  0.  0. ...,  0.  0.  0.]\n",
      "Training step:  1300 Cost:  [ 0.  0.  0. ...,  0.  0.  0.]\n",
      "Training step:  1350 Cost:  [ 0.  0.  0. ...,  0.  0.  0.]\n",
      "Training step:  1400 Cost:  [ 0.  0.  0. ...,  0.  0.  0.]\n",
      "Training step:  1450 Cost:  [ 0.  0.  0. ...,  0.  0.  0.]\n",
      "Training step:  1500 Cost:  [ 0.  0.  0. ...,  0.  0.  0.]\n",
      "Training step:  1550 Cost:  [ 0.  0.  0. ...,  0.  0.  0.]\n",
      "Training step:  1600 Cost:  [ 0.  0.  0. ...,  0.  0.  0.]\n",
      "Training step:  1650 Cost:  [ 0.  0.  0. ...,  0.  0.  0.]\n",
      "Training step:  1700 Cost:  [ 0.  0.  0. ...,  0.  0.  0.]\n",
      "Training step:  1750 Cost:  [ 0.  0.  0. ...,  0.  0.  0.]\n",
      "Training step:  1800 Cost:  [ 0.  0.  0. ...,  0.  0.  0.]\n",
      "Training step:  1850 Cost:  [ 0.  0.  0. ...,  0.  0.  0.]\n",
      "Training step:  1900 Cost:  [ 0.  0.  0. ...,  0.  0.  0.]\n",
      "Training step:  1950 Cost:  [ 0.  0.  0. ...,  0.  0.  0.]\n",
      "Optimization Finished!\n",
      "Training cost= [ 0.  0.  0. ...,  0.  0.  0.] W= [[ 1.8371917 ]\n",
      " [ 0.26721489]\n",
      " [ 0.11319736]\n",
      " [ 1.53115571]\n",
      " [-0.49344653]\n",
      " [ 0.61735028]\n",
      " [-0.64286876]\n",
      " [ 0.66907591]\n",
      " [-0.01585782]\n",
      " [-1.49258208]\n",
      " [-0.62173802]\n",
      " [ 0.25219446]\n",
      " [-0.31125376]\n",
      " [-0.59783912]\n",
      " [-0.91014445]\n",
      " [-0.26646712]\n",
      " [ 1.33705878]\n",
      " [-0.48299986]] b= [ 0.] \n",
      "\n"
     ]
    }
   ],
   "source": [
    "for i in range(training_epochs):  \n",
    "    sess.run(optimizer, feed_dict={x: train_features.as_matrix(), y_: train_target.as_matrix()})\n",
    "    # That's all! The rest of the cell just outputs debug messages. \n",
    "    # Display logs per epoch step\n",
    "    if (i) % display_step == 0:\n",
    "        cc = sess.run(cost, feed_dict={x: train_features.as_matrix(), y_:train_target.as_matrix()})\n",
    "        print (\"Training step: \",i,\"Cost: \",cc)\n",
    "\n",
    "print (\"Optimization Finished!\")\n",
    "training_cost = sess.run(cost, feed_dict={x: validation_features.as_matrix(), y_: validation_target.as_matrix()})\n",
    "print (\"Training cost=\", training_cost, \"W=\", sess.run(W), \"b=\", sess.run(B), '\\n')    "
   ]
  },
  {
   "cell_type": "code",
   "execution_count": 102,
   "metadata": {},
   "outputs": [],
   "source": [
    "output = sess.run(y, feed_dict={x: test_features })"
   ]
  },
  {
   "cell_type": "code",
   "execution_count": 103,
   "metadata": {},
   "outputs": [
    {
     "name": "stdout",
     "output_type": "stream",
     "text": [
      "24.8\n"
     ]
    }
   ],
   "source": [
    "correct = 0 \n",
    "for i in range(len(output)):\n",
    "    if(output[i] == test_target.values[i]):\n",
    "        correct = correct+1\n",
    "                \n",
    "print(correct/len(test_target)*100)"
   ]
  },
  {
   "cell_type": "code",
   "execution_count": null,
   "metadata": {
    "collapsed": true
   },
   "outputs": [],
   "source": []
  }
 ],
 "metadata": {
  "kernelspec": {
   "display_name": "Python 3",
   "language": "python",
   "name": "python3"
  },
  "language_info": {
   "codemirror_mode": {
    "name": "ipython",
    "version": 3
   },
   "file_extension": ".py",
   "mimetype": "text/x-python",
   "name": "python",
   "nbconvert_exporter": "python",
   "pygments_lexer": "ipython3",
   "version": "3.5.3"
  }
 },
 "nbformat": 4,
 "nbformat_minor": 2
}
